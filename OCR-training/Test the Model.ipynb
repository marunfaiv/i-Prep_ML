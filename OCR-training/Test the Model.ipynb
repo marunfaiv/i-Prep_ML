{
 "cells": [
  {
   "cell_type": "code",
   "execution_count": 54,
   "id": "23c6d9f2",
   "metadata": {},
   "outputs": [],
   "source": [
    "import tensorflow as tf\n",
    "import numpy as np\n",
    "import cv2"
   ]
  },
  {
   "cell_type": "code",
   "execution_count": 55,
   "id": "bf19af8f",
   "metadata": {},
   "outputs": [],
   "source": [
    "model = tf.keras.models.load_model('handwriting.model')"
   ]
  },
  {
   "cell_type": "code",
   "execution_count": 56,
   "id": "76136de9",
   "metadata": {},
   "outputs": [
    {
     "name": "stdout",
     "output_type": "stream",
     "text": [
      "Model: \"resnet\"\n",
      "_________________________________________________________________\n",
      " Layer (type)                Output Shape              Param #   \n",
      "=================================================================\n",
      " input_2 (InputLayer)        [(None, 32, 32, 1)]       0         \n",
      "                                                                 \n",
      " batch_normalization_3 (Batc  (None, 32, 32, 1)        4         \n",
      " hNormalization)                                                 \n",
      "                                                                 \n",
      " conv2d_1 (Conv2D)           (None, 32, 32, 64)        1600      \n",
      "                                                                 \n",
      " batch_normalization_4 (Batc  (None, 32, 32, 64)       256       \n",
      " hNormalization)                                                 \n",
      "                                                                 \n",
      " activation_3 (Activation)   (None, 32, 32, 64)        0         \n",
      "                                                                 \n",
      " zero_padding2d_1 (ZeroPaddi  (None, 34, 34, 64)       0         \n",
      " ng2D)                                                           \n",
      "                                                                 \n",
      " max_pooling2d_1 (MaxPooling  (None, 16, 16, 64)       0         \n",
      " 2D)                                                             \n",
      "                                                                 \n",
      " batch_normalization_5 (Batc  (None, 16, 16, 64)       256       \n",
      " hNormalization)                                                 \n",
      "                                                                 \n",
      " activation_4 (Activation)   (None, 16, 16, 64)        0         \n",
      "                                                                 \n",
      " average_pooling2d_1 (Averag  (None, 4, 4, 64)         0         \n",
      " ePooling2D)                                                     \n",
      "                                                                 \n",
      " flatten_1 (Flatten)         (None, 1024)              0         \n",
      "                                                                 \n",
      " dense_1 (Dense)             (None, 36)                36900     \n",
      "                                                                 \n",
      " activation_5 (Activation)   (None, 36)                0         \n",
      "                                                                 \n",
      "=================================================================\n",
      "Total params: 39,016\n",
      "Trainable params: 38,758\n",
      "Non-trainable params: 258\n",
      "_________________________________________________________________\n"
     ]
    }
   ],
   "source": [
    "model.summary()"
   ]
  },
  {
   "cell_type": "code",
   "execution_count": 70,
   "id": "6c6e7a77",
   "metadata": {},
   "outputs": [],
   "source": [
    "sony_image = cv2.imread('./o.png')\n",
    "sony_image = cv2.cvtColor(sony_image, cv2.COLOR_BGR2GRAY)"
   ]
  },
  {
   "cell_type": "code",
   "execution_count": 58,
   "id": "2be435a2",
   "metadata": {},
   "outputs": [
    {
     "data": {
      "text/plain": [
       "-1"
      ]
     },
     "execution_count": 58,
     "metadata": {},
     "output_type": "execute_result"
    }
   ],
   "source": [
    "cv2.imshow(\"image\", sony_image)\n",
    "cv2.waitKey(0)"
   ]
  },
  {
   "cell_type": "code",
   "execution_count": 59,
   "id": "c552acd1",
   "metadata": {},
   "outputs": [
    {
     "data": {
      "text/plain": [
       "(73, 73)"
      ]
     },
     "execution_count": 59,
     "metadata": {},
     "output_type": "execute_result"
    }
   ],
   "source": [
    "sony_image.shape"
   ]
  },
  {
   "cell_type": "code",
   "execution_count": 71,
   "id": "49a39df0",
   "metadata": {},
   "outputs": [],
   "source": [
    "sony_image = cv2.resize(sony_image, (32,32))"
   ]
  },
  {
   "cell_type": "code",
   "execution_count": 84,
   "id": "3a77617b",
   "metadata": {},
   "outputs": [
    {
     "data": {
      "text/plain": [
       "(1, 32, 32, 1)"
      ]
     },
     "execution_count": 84,
     "metadata": {},
     "output_type": "execute_result"
    }
   ],
   "source": [
    "sony_image.shape"
   ]
  },
  {
   "cell_type": "code",
   "execution_count": 85,
   "id": "67083c6f",
   "metadata": {},
   "outputs": [],
   "source": [
    "sony_image = np.array(sony_image, dtype=\"float32\")"
   ]
  },
  {
   "cell_type": "code",
   "execution_count": 86,
   "id": "6f7663ac",
   "metadata": {},
   "outputs": [
    {
     "data": {
      "text/plain": [
       "(1, 32, 32, 1)"
      ]
     },
     "execution_count": 86,
     "metadata": {},
     "output_type": "execute_result"
    }
   ],
   "source": [
    "sony_image.shape"
   ]
  },
  {
   "cell_type": "code",
   "execution_count": 73,
   "id": "eb514c23",
   "metadata": {},
   "outputs": [],
   "source": [
    "sony_image = np.expand_dims(sony_image, axis=-1)"
   ]
  },
  {
   "cell_type": "code",
   "execution_count": 65,
   "id": "ff6a0a2c",
   "metadata": {},
   "outputs": [
    {
     "data": {
      "text/plain": [
       "(32, 32, 1)"
      ]
     },
     "execution_count": 65,
     "metadata": {},
     "output_type": "execute_result"
    }
   ],
   "source": [
    "sony_image.shape"
   ]
  },
  {
   "cell_type": "code",
   "execution_count": 66,
   "id": "593d2af5",
   "metadata": {},
   "outputs": [
    {
     "data": {
      "text/plain": [
       "-1"
      ]
     },
     "execution_count": 66,
     "metadata": {},
     "output_type": "execute_result"
    }
   ],
   "source": [
    "cv2.imshow(\"image 2\", sony_image)\n",
    "cv2.waitKey(0)"
   ]
  },
  {
   "cell_type": "code",
   "execution_count": 67,
   "id": "baabed17",
   "metadata": {},
   "outputs": [],
   "source": [
    "labelNames = \"0123456789\"\n",
    "labelNames += \"ABCDEFGHIJKLMNOPQRSTUVWXYZ\"\n",
    "labelNames = [l for l in labelNames]"
   ]
  },
  {
   "cell_type": "code",
   "execution_count": 74,
   "id": "00312d83",
   "metadata": {},
   "outputs": [],
   "source": [
    "sony_image = np.expand_dims(sony_image, axis=0)"
   ]
  },
  {
   "cell_type": "code",
   "execution_count": 76,
   "id": "e2e845c9",
   "metadata": {},
   "outputs": [
    {
     "data": {
      "text/plain": [
       "(1, 32, 32, 1)"
      ]
     },
     "execution_count": 76,
     "metadata": {},
     "output_type": "execute_result"
    }
   ],
   "source": [
    "sony_image.shape"
   ]
  },
  {
   "cell_type": "code",
   "execution_count": 75,
   "id": "fd1f7902",
   "metadata": {},
   "outputs": [
    {
     "name": "stdout",
     "output_type": "stream",
     "text": [
      "1/1 [==============================] - 0s 12ms/step\n",
      "O\n"
     ]
    }
   ],
   "source": [
    "probs = model.predict(sony_image)\n",
    "prediction = probs.argmax(axis=1)\n",
    "label = labelNames[prediction[0]]\n",
    "print(label)"
   ]
  },
  {
   "cell_type": "code",
   "execution_count": 97,
   "id": "145c3ca5",
   "metadata": {},
   "outputs": [],
   "source": [
    "import glob\n",
    "import os"
   ]
  },
  {
   "cell_type": "code",
   "execution_count": 134,
   "id": "5dae23e8",
   "metadata": {},
   "outputs": [],
   "source": [
    "mypath='./newdata'\n",
    "onlyfiles = [ f for f in os.listdir(mypath) if os.path.isfile(os.path.join(mypath,f)) ]\n",
    "images = []\n",
    "for n in range(0, len(onlyfiles)):\n",
    "    image = cv2.imread( os.path.join(mypath,onlyfiles[n]) )\n",
    "    image = cv2.cvtColor(image, cv2.COLOR_BGR2GRAY)\n",
    "    image = cv2.resize(image, (32,32))\n",
    "    images.append(image)"
   ]
  },
  {
   "cell_type": "code",
   "execution_count": 135,
   "id": "5e9862bc",
   "metadata": {},
   "outputs": [],
   "source": [
    "images = np.array(images, dtype=\"float\")"
   ]
  },
  {
   "cell_type": "code",
   "execution_count": 136,
   "id": "c11aa839",
   "metadata": {},
   "outputs": [
    {
     "data": {
      "text/plain": [
       "(4, 32, 32)"
      ]
     },
     "execution_count": 136,
     "metadata": {},
     "output_type": "execute_result"
    }
   ],
   "source": [
    "images.shape"
   ]
  },
  {
   "cell_type": "code",
   "execution_count": 137,
   "id": "d65d6fe9",
   "metadata": {},
   "outputs": [],
   "source": [
    "images = np.expand_dims(images, axis=-1)"
   ]
  },
  {
   "cell_type": "code",
   "execution_count": 138,
   "id": "78f27056",
   "metadata": {},
   "outputs": [
    {
     "data": {
      "text/plain": [
       "(4, 32, 32, 1)"
      ]
     },
     "execution_count": 138,
     "metadata": {},
     "output_type": "execute_result"
    }
   ],
   "source": [
    "images.shape"
   ]
  },
  {
   "cell_type": "code",
   "execution_count": 142,
   "id": "bf4258fc",
   "metadata": {},
   "outputs": [
    {
     "name": "stdout",
     "output_type": "stream",
     "text": [
      "1/1 [==============================] - 0s 4ms/step\n",
      "1/1 [==============================] - 0s 6ms/step\n",
      "1/1 [==============================] - 0s 7ms/step\n",
      "1/1 [==============================] - 0s 16ms/step\n"
     ]
    },
    {
     "data": {
      "text/plain": [
       "-1"
      ]
     },
     "execution_count": 142,
     "metadata": {},
     "output_type": "execute_result"
    }
   ],
   "source": [
    "from imutils import build_montages\n",
    "\n",
    "result_images = []\n",
    "for i in range(len(onlyfiles)):\n",
    "\t# classify the character\n",
    "\tprobs = model.predict(images[np.newaxis, i])\n",
    "\tprediction = probs.argmax(axis=1)\n",
    "\tlabel = labelNames[prediction[0]]\n",
    "# \t# extract the image from the test data and initialize the text\n",
    "# \t# label color as green (correct)\n",
    "# \timage = (images[i] * 255).astype(\"uint8\")\n",
    "# \tcolor = (0, 255, 0)\n",
    "# \t# otherwise, the class label prediction is incorrect\n",
    "# \tif prediction[0] != np.argmax('0'):\n",
    "# \t\tcolor = (0, 0, 255)\n",
    "\t# merge the channels into one image, resize the image from 32x32\n",
    "\t# to 96x96 so we can better see it and then draw the predicted\n",
    "\t# label on the image\n",
    "\timage = cv2.merge([image] * 3)\n",
    "\timage = cv2.resize(image, (96, 96), interpolation=cv2.INTER_LINEAR)\n",
    "\tcv2.putText(image, label, (5, 20), cv2.FONT_HERSHEY_SIMPLEX, 0.75,\n",
    "\t\tcolor, 2)\n",
    "\t# add the image to our list of output images\n",
    "\tresult_images.append(image)\n",
    "# construct the montage for the images\n",
    "montage = build_montages(result_images, (96, 96), (10, 10))[0]\n",
    "# show the output montage\n",
    "cv2.imshow(\"OCR Results\", montage)\n",
    "cv2.waitKey(0)"
   ]
  },
  {
   "cell_type": "code",
   "execution_count": null,
   "id": "f17d217f",
   "metadata": {},
   "outputs": [],
   "source": []
  }
 ],
 "metadata": {
  "kernelspec": {
   "display_name": "Python 3 (ipykernel)",
   "language": "python",
   "name": "python3"
  },
  "language_info": {
   "codemirror_mode": {
    "name": "ipython",
    "version": 3
   },
   "file_extension": ".py",
   "mimetype": "text/x-python",
   "name": "python",
   "nbconvert_exporter": "python",
   "pygments_lexer": "ipython3",
   "version": "3.10.0"
  }
 },
 "nbformat": 4,
 "nbformat_minor": 5
}
